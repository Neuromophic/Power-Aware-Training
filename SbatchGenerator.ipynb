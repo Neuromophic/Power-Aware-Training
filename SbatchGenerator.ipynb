{
 "cells": [
  {
   "cell_type": "code",
   "execution_count": 6,
   "id": "330fec8b-2d9e-42bd-a962-ca81e696c478",
   "metadata": {},
   "outputs": [],
   "source": [
    "modes = ['nominal', 'aging']\n",
    "\n",
    "with open('experiment_ICCAD_2022.sh', 'w') as f:\n",
    "    for m in modes:\n",
    "        for ds in range(13):\n",
    "            for s in range(10):\n",
    "\n",
    "                line = f'sbatch experiment.py --DATASET {ds}  --SEED {s}  --MODE {m} --projectname ICCAD_2022\\n'\n",
    "                f.write(line)"
   ]
  },
  {
   "cell_type": "code",
   "execution_count": 1,
   "id": "ef292e84-6753-4a3a-afbc-838b88099bb1",
   "metadata": {},
   "outputs": [],
   "source": [
    "modes = ['nominal', 'aging']\n",
    "\n",
    "with open('experiment_IOP_FPE.sh', 'w') as f:\n",
    "    for m in modes:\n",
    "        for ds in range(13):\n",
    "            for s in range(10):\n",
    "\n",
    "                line = f'sbatch experiment.py --DATASET {ds}  --SEED {s}  --MODE {m} --projectname Aging_Aware_Progressive  --PROGRESSIVE True\\n'\n",
    "                f.write(line)"
   ]
  },
  {
   "cell_type": "code",
   "execution_count": 1,
   "id": "0f7e2fc2-917b-4ba8-809e-8b3e2cafc93d",
   "metadata": {},
   "outputs": [],
   "source": [
    "modes = ['nominal', 'aging']\n",
    "\n",
    "with open('evaluation_ICCAD_2022.sh', 'w') as f:\n",
    "    for m in modes:\n",
    "        for ds in range(13):\n",
    "            for s in range(10):\n",
    "\n",
    "                line = f'sbatch evaluation.py --DATASET {ds}  --SEED {s}  --MODE {m}  --DEVICE cpu\\n'\n",
    "                f.write(line)"
   ]
  },
  {
   "cell_type": "code",
   "execution_count": null,
   "id": "e188da6b-5565-4214-bfef-3043bc85b4b7",
   "metadata": {},
   "outputs": [],
   "source": []
  }
 ],
 "metadata": {
  "kernelspec": {
   "display_name": "SDIL",
   "language": "python",
   "name": "sdil"
  },
  "language_info": {
   "codemirror_mode": {
    "name": "ipython",
    "version": 3
   },
   "file_extension": ".py",
   "mimetype": "text/x-python",
   "name": "python",
   "nbconvert_exporter": "python",
   "pygments_lexer": "ipython3",
   "version": "3.8.13"
  }
 },
 "nbformat": 4,
 "nbformat_minor": 5
}
