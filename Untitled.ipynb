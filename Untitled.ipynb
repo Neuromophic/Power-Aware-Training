{
 "cells": [
  {
   "cell_type": "code",
   "execution_count": 1,
   "id": "af00b25c",
   "metadata": {
    "tags": []
   },
   "outputs": [
    {
     "name": "stdout",
     "output_type": "stream",
     "text": [
      "Training network on device: cpu.\n"
     ]
    }
   ],
   "source": [
    "import os\n",
    "import sys\n",
    "sys.path.append(os.getcwd())\n",
    "sys.path.append(os.path.join(os.getcwd(), 'utils'))\n",
    "import torch\n",
    "import pprint\n",
    "import pNN_Power_Aware as pNN\n",
    "from configuration import *\n",
    "from torch.utils.data import TensorDataset, DataLoader\n",
    "from utils import *\n",
    "\n",
    "args = parser.parse_args([])\n",
    "args.DEVICE = 'cpu'\n",
    "args.projectname = 'test'\n",
    "args.DEVICE = CheckDevice(args)\n",
    "print(f'Training network on device: {args.DEVICE}.')\n",
    "args.DATASET = 8\n",
    "MakeFolder(args)"
   ]
  },
  {
   "cell_type": "code",
   "execution_count": 2,
   "id": "60dbb2e5-085d-4f71-a0a9-5630762816b6",
   "metadata": {
    "tags": []
   },
   "outputs": [
    {
     "ename": "TypeError",
     "evalue": "GetDataLoader() missing 1 required positional argument: 'mode'",
     "output_type": "error",
     "traceback": [
      "\u001b[0;31m---------------------------------------------------------------------------\u001b[0m",
      "\u001b[0;31mTypeError\u001b[0m                                 Traceback (most recent call last)",
      "Cell \u001b[0;32mIn[2], line 1\u001b[0m\n\u001b[0;32m----> 1\u001b[0m train_loader, valid_loader, test_loader, datainfo \u001b[38;5;241m=\u001b[39m \u001b[43mGetDataLoader\u001b[49m\u001b[43m(\u001b[49m\u001b[43margs\u001b[49m\u001b[43m)\u001b[49m\n\u001b[1;32m      2\u001b[0m pprint\u001b[38;5;241m.\u001b[39mpprint(datainfo)\n",
      "\u001b[0;31mTypeError\u001b[0m: GetDataLoader() missing 1 required positional argument: 'mode'"
     ]
    }
   ],
   "source": [
    "train_loader, valid_loader, test_loader, datainfo = GetDataLoader(args)\n",
    "pprint.pprint(datainfo)"
   ]
  },
  {
   "cell_type": "code",
   "execution_count": null,
   "id": "c62c1eaf-3d9e-4e52-88ca-6f376a83fa03",
   "metadata": {
    "tags": []
   },
   "outputs": [],
   "source": [
    "\n",
    "\n",
    "SetSeed(args.SEED)\n",
    "\n",
    "setup = f\"data:{datainfo['dataname']}_seed:{args.SEED}_Penalty:{args.powerestimator}_Factor:{args.powerbalance}_Progressive:{args.PROGRESSIVE}\"\n",
    "print(f'Training setup: {setup}.')\n",
    "\n",
    "msglogger = GetMessageLogger(args, setup)\n",
    "msglogger.info(f'Training network on device: {args.DEVICE}.')\n",
    "msglogger.info(f'Training setup: {setup}.')\n",
    "msglogger.info(datainfo)\n",
    "\n",
    "if os.path.isfile(f'{args.savepath}/pNN_{setup}'):\n",
    "    print(f'{setup} exists, skip this training.')\n",
    "    msglogger.info('Training was already finished.')\n",
    "else:\n",
    "    topology = [datainfo['N_feature']] + args.hidden + [datainfo['N_class']]\n",
    "    msglogger.info(f'Topology of the network: {topology}.')\n",
    "    \n",
    "    pnn = pNN.pNN(topology, args).to(args.DEVICE)\n",
    "\n",
    "    lossfunction = pNN.Lossfunction(args).to(args.DEVICE)\n",
    "    optimizer = torch.optim.Adam(pnn.parameters(), lr=args.LR)\n",
    "\n",
    "    if args.PROGRESSIVE:\n",
    "        pnn, best = train_pnn_progressive(pnn, train_loader, valid_loader, lossfunction, optimizer, args, msglogger, UUID=setup)\n",
    "    else:\n",
    "        pnn, best = train_pnn(pnn, train_loader, valid_loader, lossfunction, optimizer, args, msglogger, UUID=setup)\n",
    "    \n",
    "    if best:\n",
    "        if not os.path.exists(f'{args.savepath}/'):\n",
    "            os.makedirs(f'{args.savepath}/')\n",
    "        torch.save(pnn, f'{args.savepath}/pNN_{setup}')\n",
    "        msglogger.info('Training if finished.')\n",
    "    else:\n",
    "        msglogger.warning('Time out, further training is necessary.')"
   ]
  },
  {
   "cell_type": "code",
   "execution_count": null,
   "id": "cad13dbc-ed0e-4e35-85b4-6553827ad47e",
   "metadata": {},
   "outputs": [],
   "source": []
  },
  {
   "cell_type": "code",
   "execution_count": null,
   "id": "da9f3cd8-bdba-4b56-892a-bdba7914b5ac",
   "metadata": {},
   "outputs": [],
   "source": []
  }
 ],
 "metadata": {
  "kernelspec": {
   "display_name": "pNN",
   "language": "python",
   "name": "pnn"
  },
  "language_info": {
   "codemirror_mode": {
    "name": "ipython",
    "version": 3
   },
   "file_extension": ".py",
   "mimetype": "text/x-python",
   "name": "python",
   "nbconvert_exporter": "python",
   "pygments_lexer": "ipython3",
   "version": "3.9.16"
  },
  "toc": {
   "base_numbering": 1,
   "nav_menu": {},
   "number_sections": true,
   "sideBar": true,
   "skip_h1_title": false,
   "title_cell": "Table of Contents",
   "title_sidebar": "Contents",
   "toc_cell": false,
   "toc_position": {},
   "toc_section_display": true,
   "toc_window_display": false
  }
 },
 "nbformat": 4,
 "nbformat_minor": 5
}
